{
 "cells": [
  {
   "cell_type": "code",
   "execution_count": 3,
   "metadata": {},
   "outputs": [],
   "source": [
    "import multiprocessing\n",
    "import time\n",
    "import random\n",
    "\n",
    "gesture = 0\n",
    "def HGRHandler():\n",
    "    global gesture\n",
    "    while True:\n",
    "        time.sleep(1)\n",
    "        gesture = random.randint(0,2)\n",
    "\n",
    "def a():\n",
    "    global gesture\n",
    "    while True:\n",
    "        time.sleep(1)\n",
    "        print(gesture)\n",
    "\n",
    "p1 = multiprocessing.Process(target=HGRHandler)\n",
    "p2 = multiprocessing.Process(target=a)\n",
    "\n",
    "p1.start()\n",
    "p2.start()\n",
    "\n",
    "p1.join()\n",
    "p2.join()\n"
   ]
  }
 ],
 "metadata": {
  "kernelspec": {
   "display_name": "Python 3",
   "language": "python",
   "name": "python3"
  },
  "language_info": {
   "codemirror_mode": {
    "name": "ipython",
    "version": 3
   },
   "file_extension": ".py",
   "mimetype": "text/x-python",
   "name": "python",
   "nbconvert_exporter": "python",
   "pygments_lexer": "ipython3",
   "version": "3.8.5"
  },
  "orig_nbformat": 4
 },
 "nbformat": 4,
 "nbformat_minor": 2
}
